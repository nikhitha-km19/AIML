{
 "cells": [
  {
   "cell_type": "markdown",
   "metadata": {},
   "source": [
    "Implement the non-parametric Locally Weighted Regression algorithm in order to fit data points. Select the appropriate data set for your experiment and draw graphs."
   ]
  },
  {
   "cell_type": "code",
   "execution_count": 1,
   "metadata": {},
   "outputs": [
    {
     "name": "stdout",
     "output_type": "stream",
     "text": [
      "Error:0.28539416725563693--a:1.69309840122,b:0.0372197540025\n",
      "Error:0.0003539123709798305--a:0.19016525228567985,b:0.6492244571239089\n",
      "Error:0.00035390624090251074--a:0.18948572727625587,b:0.64996631660447\n",
      "Error:0.00035390624089962536--a:0.18948526109794123,b:0.649966825546448\n",
      "Error:0.00035390624089962487--a:0.1894852607781263,b:0.6499668258956003\n",
      "Error:0.00035390624089962487--a:0.18948526077791078,b:0.6499668258958355\n",
      "Error:0.00035390624089962487--a:0.18948526077791078,b:0.6499668258958355\n",
      "Error:0.00035390624089962487--a:0.18948526077791078,b:0.6499668258958355\n",
      "Error:0.00035390624089962487--a:0.18948526077791078,b:0.6499668258958355\n",
      "Error:0.00035390624089962487--a:0.18948526077791078,b:0.6499668258958355\n",
      "2.4755610602936344\n",
      "0.013794923017770381\n"
     ]
    },
    {
     "data": {
      "text/plain": [
       "[<matplotlib.lines.Line2D at 0x211c4248400>,\n",
       " <matplotlib.lines.Line2D at 0x211c4248430>]"
      ]
     },
     "execution_count": 1,
     "metadata": {},
     "output_type": "execute_result"
    },
    {
     "data": {
      "image/png": "[encoded data removed]",
      "text/plain": [
       "<Figure size 432x288 with 1 Axes>"
      ]
     },
     "metadata": {
      "needs_background": "light"
     },
     "output_type": "display_data"
    }
   ],
   "source": [
    "import numpy as np\n",
    "import pandas as pd\n",
    "from sklearn.datasets import load_boston\n",
    "import matplotlib.pyplot as plt\n",
    "import math\n",
    "boston=load_boston()\n",
    "features=pd.DataFrame(boston.data,columns=boston.feature_names)\n",
    "target=pd.DataFrame(boston.target,columns=['target'])\n",
    "data=pd.concat([features,target],axis=1)\n",
    "x=data['RM']\n",
    "X1=sorted(np.array(x/x.mean()))\n",
    "\n",
    "X=X1+[i+1 for i in X1]\n",
    "\n",
    "Y=np.sin(X)\n",
    "plt.plot(X,Y)\n",
    "n=int(0.8*len(X))\n",
    "x_train=X[:n]\n",
    "y_train=Y[:n]\n",
    "x_test=X[n:]\n",
    "y_test=Y[n:]\n",
    "w=np.exp([-(1.2-i)**2/(2*0.1) for i in x_train])\n",
    "\n",
    "plt.plot(x_train,y_train,'r.')\n",
    "plt.plot(x_train,w,'b.')\n",
    "def h(x,a,b):\n",
    "    return a*x+b\n",
    "\n",
    "def error(a,x,b,y,w):\n",
    "    e=0\n",
    "    m=len(x)\n",
    "    for i in range(m):\n",
    "        e +=np.power(h(x[i],a,b)-y[i],2)*w[i]\n",
    "    return(1/(2*m))*e\n",
    "\n",
    "def step_gradient(a,x,b,y,learning_rate,w):\n",
    "    grad_a=0\n",
    "    grad_b=0\n",
    "    m=len(x)\n",
    "    for i in range(m):\n",
    "        grad_a +=(2/m)*((h(x[i],a,b)-y[i])*x[i])*w[i]\n",
    "        grad_b +=(2/m)*(h(x[i],a,b)-y[i])*w[i]\n",
    "    a=a-(grad_a * learning_rate)\n",
    "    b=b-(grad_b * learning_rate)\n",
    "   \n",
    "    return a,b\n",
    "\n",
    "def descend(initial_a,initial_b,x,y,learning_rate,iteration,w):\n",
    "    a=initial_a\n",
    "    b=initial_b\n",
    "    for i in range(iterations):\n",
    "        e=error(a,x,b,y,w)\n",
    "        if i%1000==0:\n",
    "            print(f\"Error:{e}--a:{a},b:{b}\")\n",
    "           \n",
    "        a,b=step_gradient(a,x,b,y,learning_rate,w)\n",
    "    return a,b\n",
    "\n",
    "a=1.69309840122\n",
    "b=0.0372197540025\n",
    "learning_rate=0.3\n",
    "iterations=10000\n",
    "\n",
    "final_a,final_b=descend(a,b,x_train,y_train,learning_rate,iterations,w)\n",
    "H=[i*final_a+final_b for i in x_train]\n",
    "plt.plot(x_train,y_train,'r.',x_train,H,'b')\n",
    "print(error(a,x_test,b,y_test,w))\n",
    "print(error(final_a,x_test,final_b,y_test,w))\n",
    "plt.plot(x_test,y_test,'m.',x_train,y_train,'r.')"
   ]
  },
  {
   "cell_type": "code",
   "execution_count": null,
   "metadata": {},
   "outputs": [],
   "source": []
  }
 ],
 "metadata": {
  "kernelspec": {
   "display_name": "Python 3",
   "language": "python",
   "name": "python3"
  },
  "language_info": {
   "codemirror_mode": {
    "name": "ipython",
    "version": 3
   },
   "file_extension": ".py",
   "mimetype": "text/x-python",
   "name": "python",
   "nbconvert_exporter": "python",
   "pygments_lexer": "ipython3",
   "version": "3.8.5"
  }
 },
 "nbformat": 4,
 "nbformat_minor": 4
}
